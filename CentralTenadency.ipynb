{
 "cells": [
  {
   "cell_type": "code",
   "execution_count": 13,
   "metadata": {},
   "outputs": [
    {
     "name": "stdout",
     "output_type": "stream",
     "text": [
      "32.5\n"
     ]
    }
   ],
   "source": [
    "#median\n",
    "x = [1,2,3,9,15,18,25,33,45,55,60,90,105,240]\n",
    "def trimmed_mean(z):\n",
    "    del z[0:3]\n",
    "    z = z[::-1]\n",
    "    del z[0:3]\n",
    "    sum1 = 0\n",
    "    for i in z:\n",
    "        sum1 += i\n",
    "    print(sum1 / len(z))\n",
    "    \n",
    "trimmed_mean(x)        "
   ]
  },
  {
   "cell_type": "code",
   "execution_count": 7,
   "metadata": {},
   "outputs": [
    {
     "name": "stdout",
     "output_type": "stream",
     "text": [
      "32.5\n"
     ]
    }
   ],
   "source": [
    "y = [9,15,18,25,33,45,55,60]\n",
    "score = 0\n",
    "for i in y:\n",
    "    score += i\n",
    "print (score / len(y))\n",
    "    "
   ]
  },
  {
   "cell_type": "code",
   "execution_count": 27,
   "metadata": {},
   "outputs": [
    {
     "name": "stdout",
     "output_type": "stream",
     "text": [
      "7.5\n"
     ]
    }
   ],
   "source": [
    "#median\n",
    "def median(x):\n",
    "    x = sorted(x)\n",
    "    if (len(x)% 2 == 0):\n",
    "        m1 = x[(len(x)//2)-1]\n",
    "        m2 = x[(len(x)//2)]\n",
    "    print ((m1 + m2)/2)\n",
    "    \n",
    "    \n",
    "    \n",
    "W = [1,4,6,3,8,9,10,11,7,12]\n",
    "median(W)"
   ]
  },
  {
   "cell_type": "code",
   "execution_count": 21,
   "metadata": {},
   "outputs": [
    {
     "name": "stdout",
     "output_type": "stream",
     "text": [
      "9\n"
     ]
    }
   ],
   "source": [
    "#mode\n",
    "s = [1,3,5,9,9,9,66,6]\n",
    "max = 0\n",
    "for i in range (len(s)):\n",
    "    if s.count(s[i]) > s.count(max):\n",
    "       max = s[i]\n",
    "print(max)           \n",
    "  "
   ]
  },
  {
   "cell_type": "code",
   "execution_count": null,
   "metadata": {},
   "outputs": [],
   "source": []
  },
  {
   "cell_type": "code",
   "execution_count": null,
   "metadata": {},
   "outputs": [],
   "source": []
  }
 ],
 "metadata": {
  "kernelspec": {
   "display_name": "Python 3",
   "language": "python",
   "name": "python3"
  },
  "language_info": {
   "codemirror_mode": {
    "name": "ipython",
    "version": 3
   },
   "file_extension": ".py",
   "mimetype": "text/x-python",
   "name": "python",
   "nbconvert_exporter": "python",
   "pygments_lexer": "ipython3",
   "version": "3.8.5"
  }
 },
 "nbformat": 4,
 "nbformat_minor": 4
}
